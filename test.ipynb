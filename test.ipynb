{
 "cells": [
  {
   "cell_type": "code",
   "execution_count": 1,
   "metadata": {},
   "outputs": [
    {
     "name": "stderr",
     "output_type": "stream",
     "text": [
      "c:\\Users\\Admin\\anaconda3\\envs\\whisperai\\lib\\site-packages\\tqdm\\auto.py:22: TqdmWarning: IProgress not found. Please update jupyter and ipywidgets. See https://ipywidgets.readthedocs.io/en/stable/user_install.html\n",
      "  from .autonotebook import tqdm as notebook_tqdm\n"
     ]
    }
   ],
   "source": [
    "import torch\n",
    "from transformers import pipeline\n",
    "import os\n",
    "os.environ['KMP_DUPLICATE_LIB_OK']='True'\n",
    "\n",
    "MODEL_NAME = \"biodatlab/whisper-th-medium-combined\"\n",
    "lang = \"th\"\n",
    "\n",
    "device = 0 if torch.cuda.is_available() else \"cpu\"\n",
    "\n",
    "pipe = pipeline(\n",
    "    task=\"automatic-speech-recognition\",\n",
    "    model=MODEL_NAME,\n",
    "    chunk_length_s=30,\n",
    "    device=device,\n",
    ")\n",
    "\n",
    "pipe.model.config.forced_decoder_ids = pipe.tokenizer.get_decoder_prompt_ids(language=lang, task=\"transcribe\")"
   ]
  },
  {
   "cell_type": "code",
   "execution_count": 2,
   "metadata": {},
   "outputs": [],
   "source": [
    "import pytube as pt\n",
    "\n",
    "def yt_transcribe(yt_url):\n",
    "    yt = pt.YouTube(yt_url)\n",
    "    stream = yt.streams.filter(only_audio=True)[0]\n",
    "    stream.download(filename=\"audio.mp3\")\n",
    "    text = pipe(\"audio.mp3\", ignore_warning = True)[\"text\"]\n",
    "    return text"
   ]
  },
  {
   "cell_type": "code",
   "execution_count": 3,
   "metadata": {},
   "outputs": [
    {
     "name": "stderr",
     "output_type": "stream",
     "text": [
      "c:\\Users\\Admin\\anaconda3\\envs\\whisperai\\lib\\site-packages\\transformers\\generation\\utils.py:1097: UserWarning: You have modified the pretrained model configuration to control generation. This is a deprecated strategy to control generation and will be removed soon, in a future version. Please use a generation configuration file (see https://huggingface.co/docs/transformers/main_classes/text_generation)\n",
      "  warnings.warn(\n",
      "c:\\Users\\Admin\\anaconda3\\envs\\whisperai\\lib\\site-packages\\transformers\\generation\\utils.py:1184: UserWarning: Neither `max_length` nor `max_new_tokens` has been set, `max_length` will default to 448 (`generation_config.max_length`). Controlling `max_length` via the config is deprecated and `max_length` will be removed from the config in v5 of Transformers -- we recommend using `max_new_tokens` to control the maximum length of the generation.\n",
      "  warnings.warn(\n"
     ]
    },
    {
     "data": {
      "text/plain": [
       "'!ไม่เคยรู้จักแต่คิดถึง ไม่เคยพูดจาไม่เคยศพตาโดยซ้ำไป ไม่รู้ทำไมหัวใจมันคิดถึงไม่ได้เจอกันในปอนด์เช้าตอนเย็นถึงเฝ้าดูก็ไม่เห็นเลยสักทีไม่รู้ไปอยู่ตรงไหนเธอกันนี้แต่ยังมีที่ตรงนั้นทำให้เราได้พบเธอกันตลอดเลย รอจนถึงวันล่าเที่ยงวันฉันจะไปที่โรงหัสหยังคืน ที่ตรงนี้ฉันจะได้เจอน่าถึง แน่นว่าเสมออยู่เธอต้องมาแล้วฉันก็ได้เจอหน้าเธอ มานั่งคอยฉันมาได้มองเธอก็สบายใจ...คงไม่มีที่ได้จะได้ต่อใจเหมือนก่อน (และเนี้ยปับปัน)ปาดี้ยา ปาบบา ปาดี้ยา ปาบบา ปาดี้ยา ปาบบา ปาดี้ยา ปาบบา)ใกล้เป็นเบื่อเบื่อในวันเสาร์อาทิตย์ก็เหงาฉันอยากให้ถึงวันจันทร์เพราะจะได้เจอหน้าเธอคนนั้นในโรงอาหารแต่ยังมีพี่ตรงนั้นทำให้เราได้พบเธอกันตลอดเลย รอจนถึงวันลาที่หลังเที่ยงวันฉันจะไปที่โรงอาหารเมื่อคืน ที่พรงนี้ฉันจะได้เจอมาเธอ แน่นอนเสมอหยุดเธอต้องมา แล้วฉันก็ได้เจอมาเธอ เมื่อนั่งคอยฉันเหวี่ยดให้บักเท่า!Parisian, Paliya, Pa, Pa, Pa, Paliya, Pa, Pa, Pa,ืนได้เจอแล้วเธอมานั่งคอยฉันแล้วที่มองเธอก็สบเจนใจ คงไม่มีทีได้จะได้เบาใจเหมือนเดิม (แล้วฉันก็ได้เจอแล้วเธอ)ินิ!เหมือนครองนี้'"
      ]
     },
     "execution_count": 3,
     "metadata": {},
     "output_type": "execute_result"
    }
   ],
   "source": [
    "# This may take some time depending on the length of the video.\n",
    "url = \"https://www.youtube.com/watch?v=cE1495Eco2o\"\n",
    "\n",
    "transcriptions = yt_transcribe(url)\n",
    "transcriptions"
   ]
  }
 ],
 "metadata": {
  "kernelspec": {
   "display_name": "Python 3 (ipykernel)",
   "language": "python",
   "name": "python3"
  },
  "language_info": {
   "codemirror_mode": {
    "name": "ipython",
    "version": 3
   },
   "file_extension": ".py",
   "mimetype": "text/x-python",
   "name": "python",
   "nbconvert_exporter": "python",
   "pygments_lexer": "ipython3",
   "version": "3.9.13"
  },
  "vscode": {
   "interpreter": {
    "hash": "350de134c2b27676352ccb9320f6f2164cdea8f6837b09190670745f032e72ec"
   }
  }
 },
 "nbformat": 4,
 "nbformat_minor": 2
}
